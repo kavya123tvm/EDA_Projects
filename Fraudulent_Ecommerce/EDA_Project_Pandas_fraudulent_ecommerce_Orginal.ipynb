{
 "cells": [
  {
   "cell_type": "markdown",
   "metadata": {},
   "source": [
    "INTRODUCTION\n",
    "\n",
    "This dataset contains a collection of E-Commerce transaction,including both legitimate and fraudulent transaction. The dataset is designed to help researchers and practitioners develop evaluate machine learning models for detecting E-Commerce fraudulent transaction."
   ]
  },
  {
   "cell_type": "markdown",
   "metadata": {},
   "source": [
    "#IMPORT LIBRARIES AND LOAD DATA"
   ]
  },
  {
   "cell_type": "code",
   "execution_count": 1,
   "metadata": {},
   "outputs": [
    {
     "data": {
      "text/html": [
       "<div>\n",
       "<style scoped>\n",
       "    .dataframe tbody tr th:only-of-type {\n",
       "        vertical-align: middle;\n",
       "    }\n",
       "\n",
       "    .dataframe tbody tr th {\n",
       "        vertical-align: top;\n",
       "    }\n",
       "\n",
       "    .dataframe thead th {\n",
       "        text-align: right;\n",
       "    }\n",
       "</style>\n",
       "<table border=\"1\" class=\"dataframe\">\n",
       "  <thead>\n",
       "    <tr style=\"text-align: right;\">\n",
       "      <th></th>\n",
       "      <th>Transaction ID</th>\n",
       "      <th>Customer ID</th>\n",
       "      <th>Transaction Amount</th>\n",
       "      <th>Transaction Date</th>\n",
       "      <th>Payment Method</th>\n",
       "      <th>Product Category</th>\n",
       "      <th>Quantity</th>\n",
       "      <th>Customer Age</th>\n",
       "      <th>Customer Location</th>\n",
       "      <th>Device Used</th>\n",
       "      <th>IP Address</th>\n",
       "      <th>Shipping Address</th>\n",
       "      <th>Billing Address</th>\n",
       "      <th>Is Fraudulent</th>\n",
       "      <th>Account Age Days</th>\n",
       "      <th>Transaction Hour</th>\n",
       "    </tr>\n",
       "  </thead>\n",
       "  <tbody>\n",
       "    <tr>\n",
       "      <th>0</th>\n",
       "      <td>c12e07a0-8a06-4c0d-b5cc-04f3af688570</td>\n",
       "      <td>8ca9f102-02a4-4207-ab63-484e83a1bdf0</td>\n",
       "      <td>42.32</td>\n",
       "      <td>24-03-2024 23:42</td>\n",
       "      <td>PayPal</td>\n",
       "      <td>electronics</td>\n",
       "      <td>1</td>\n",
       "      <td>40</td>\n",
       "      <td>East Jameshaven</td>\n",
       "      <td>desktop</td>\n",
       "      <td>110.87.246.85</td>\n",
       "      <td>5399 Rachel Stravenue Suite 718\\nNorth Blakebu...</td>\n",
       "      <td>5399 Rachel Stravenue Suite 718\\nNorth Blakebu...</td>\n",
       "      <td>0</td>\n",
       "      <td>282</td>\n",
       "      <td>23</td>\n",
       "    </tr>\n",
       "    <tr>\n",
       "      <th>1</th>\n",
       "      <td>7d187603-7961-4fce-9827-9698e2b6a201</td>\n",
       "      <td>4d158416-caae-4b09-bd5b-15235deb9129</td>\n",
       "      <td>301.34</td>\n",
       "      <td>22-01-2024 00:53</td>\n",
       "      <td>credit card</td>\n",
       "      <td>electronics</td>\n",
       "      <td>3</td>\n",
       "      <td>35</td>\n",
       "      <td>Kingstad</td>\n",
       "      <td>tablet</td>\n",
       "      <td>14.73.104.153</td>\n",
       "      <td>5230 Stephanie Forge\\nCollinsbury, PR 81853</td>\n",
       "      <td>5230 Stephanie Forge\\nCollinsbury, PR 81853</td>\n",
       "      <td>0</td>\n",
       "      <td>223</td>\n",
       "      <td>0</td>\n",
       "    </tr>\n",
       "    <tr>\n",
       "      <th>2</th>\n",
       "      <td>f2c14f9d-92df-4aaf-8931-ceaf4e63ed72</td>\n",
       "      <td>ccae47b8-75c7-4f5a-aa9e-957deced2137</td>\n",
       "      <td>340.32</td>\n",
       "      <td>22-01-2024 08:06</td>\n",
       "      <td>debit card</td>\n",
       "      <td>toys &amp; games</td>\n",
       "      <td>5</td>\n",
       "      <td>29</td>\n",
       "      <td>North Ryan</td>\n",
       "      <td>desktop</td>\n",
       "      <td>67.58.94.93</td>\n",
       "      <td>195 Cole Oval\\nPort Larry, IA 58422</td>\n",
       "      <td>4772 David Stravenue Apt. 447\\nVelasquezside, ...</td>\n",
       "      <td>0</td>\n",
       "      <td>360</td>\n",
       "      <td>8</td>\n",
       "    </tr>\n",
       "    <tr>\n",
       "      <th>3</th>\n",
       "      <td>e9949bfa-194d-486b-84da-9565fca9e5ce</td>\n",
       "      <td>b04960c0-aeee-4907-b1cd-4819016adcef</td>\n",
       "      <td>95.77</td>\n",
       "      <td>16-01-2024 20:34</td>\n",
       "      <td>credit card</td>\n",
       "      <td>electronics</td>\n",
       "      <td>5</td>\n",
       "      <td>45</td>\n",
       "      <td>Kaylaville</td>\n",
       "      <td>mobile</td>\n",
       "      <td>202.122.126.216</td>\n",
       "      <td>7609 Cynthia Square\\nWest Brenda, NV 23016</td>\n",
       "      <td>7609 Cynthia Square\\nWest Brenda, NV 23016</td>\n",
       "      <td>0</td>\n",
       "      <td>325</td>\n",
       "      <td>20</td>\n",
       "    </tr>\n",
       "    <tr>\n",
       "      <th>4</th>\n",
       "      <td>7362837c-7538-434e-8731-0df713f5f26d</td>\n",
       "      <td>de9d6351-b3a7-4bc7-9a55-8f013eb66928</td>\n",
       "      <td>77.45</td>\n",
       "      <td>16-01-2024 15:47</td>\n",
       "      <td>credit card</td>\n",
       "      <td>clothing</td>\n",
       "      <td>5</td>\n",
       "      <td>42</td>\n",
       "      <td>North Edwardborough</td>\n",
       "      <td>desktop</td>\n",
       "      <td>96.77.232.76</td>\n",
       "      <td>2494 Robert Ramp Suite 313\\nRobinsonport, AS 5...</td>\n",
       "      <td>2494 Robert Ramp Suite 313\\nRobinsonport, AS 5...</td>\n",
       "      <td>0</td>\n",
       "      <td>116</td>\n",
       "      <td>15</td>\n",
       "    </tr>\n",
       "    <tr>\n",
       "      <th>5</th>\n",
       "      <td>5da506fe-d4df-474a-b773-146333f06cfe</td>\n",
       "      <td>03033baf-2bcc-4608-b5b8-9c86976f4948</td>\n",
       "      <td>345.27</td>\n",
       "      <td>22-02-2024 13:49</td>\n",
       "      <td>PayPal</td>\n",
       "      <td>toys &amp; games</td>\n",
       "      <td>1</td>\n",
       "      <td>9</td>\n",
       "      <td>Johnsonmouth</td>\n",
       "      <td>desktop</td>\n",
       "      <td>158.48.161.135</td>\n",
       "      <td>PSC 3832, Box 5265\\nAPO AE 85694</td>\n",
       "      <td>PSC 3832, Box 5265\\nAPO AE 85694</td>\n",
       "      <td>0</td>\n",
       "      <td>251</td>\n",
       "      <td>13</td>\n",
       "    </tr>\n",
       "    <tr>\n",
       "      <th>6</th>\n",
       "      <td>47b35c5d-d4c9-4a7d-a354-cd41596abf67</td>\n",
       "      <td>6a5305a3-b47c-4bdb-91d7-3bf126530e01</td>\n",
       "      <td>53.69</td>\n",
       "      <td>21-03-2024 13:42</td>\n",
       "      <td>debit card</td>\n",
       "      <td>toys &amp; games</td>\n",
       "      <td>3</td>\n",
       "      <td>41</td>\n",
       "      <td>New Brendamouth</td>\n",
       "      <td>mobile</td>\n",
       "      <td>93.54.173.138</td>\n",
       "      <td>272 Tammy Isle Apt. 969\\nNorth Michaelmouth, M...</td>\n",
       "      <td>272 Tammy Isle Apt. 969\\nNorth Michaelmouth, M...</td>\n",
       "      <td>0</td>\n",
       "      <td>138</td>\n",
       "      <td>13</td>\n",
       "    </tr>\n",
       "    <tr>\n",
       "      <th>7</th>\n",
       "      <td>bf3db41c-25a9-4e6d-b87f-13e5fabe35dd</td>\n",
       "      <td>7300dcf3-df6f-439f-ba13-a98f18b972f3</td>\n",
       "      <td>680.17</td>\n",
       "      <td>18-01-2024 23:25</td>\n",
       "      <td>debit card</td>\n",
       "      <td>electronics</td>\n",
       "      <td>5</td>\n",
       "      <td>39</td>\n",
       "      <td>South Tracy</td>\n",
       "      <td>tablet</td>\n",
       "      <td>61.52.160.51</td>\n",
       "      <td>30470 Amanda Causeway Suite 446\\nLake Ashleyla...</td>\n",
       "      <td>30470 Amanda Causeway Suite 446\\nLake Ashleyla...</td>\n",
       "      <td>0</td>\n",
       "      <td>36</td>\n",
       "      <td>23</td>\n",
       "    </tr>\n",
       "    <tr>\n",
       "      <th>8</th>\n",
       "      <td>8ec806af-c367-4dd0-8218-25d3c8c7a346</td>\n",
       "      <td>25c48d47-879f-49b3-b0cc-a7393c28f8af</td>\n",
       "      <td>126.50</td>\n",
       "      <td>12-02-2024 04:01</td>\n",
       "      <td>debit card</td>\n",
       "      <td>home &amp; garden</td>\n",
       "      <td>4</td>\n",
       "      <td>35</td>\n",
       "      <td>West Henry</td>\n",
       "      <td>mobile</td>\n",
       "      <td>6.59.118.143</td>\n",
       "      <td>179 Amy Roads\\nRyanland, OH 38054</td>\n",
       "      <td>179 Amy Roads\\nRyanland, OH 38054</td>\n",
       "      <td>0</td>\n",
       "      <td>188</td>\n",
       "      <td>4</td>\n",
       "    </tr>\n",
       "    <tr>\n",
       "      <th>9</th>\n",
       "      <td>3b51c8cd-e0d7-48ba-894f-8f77b2cf2f43</td>\n",
       "      <td>41803857-0031-499c-bcaf-bca4e4ef4620</td>\n",
       "      <td>47.18</td>\n",
       "      <td>06-04-2024 22:52</td>\n",
       "      <td>bank transfer</td>\n",
       "      <td>toys &amp; games</td>\n",
       "      <td>4</td>\n",
       "      <td>19</td>\n",
       "      <td>Taylorside</td>\n",
       "      <td>mobile</td>\n",
       "      <td>17.185.69.10</td>\n",
       "      <td>34828 Ronald Oval Suite 620\\nNew Samuelmouth, ...</td>\n",
       "      <td>34828 Ronald Oval Suite 620\\nNew Samuelmouth, ...</td>\n",
       "      <td>0</td>\n",
       "      <td>245</td>\n",
       "      <td>22</td>\n",
       "    </tr>\n",
       "  </tbody>\n",
       "</table>\n",
       "</div>"
      ],
      "text/plain": [
       "                         Transaction ID                           Customer ID  \\\n",
       "0  c12e07a0-8a06-4c0d-b5cc-04f3af688570  8ca9f102-02a4-4207-ab63-484e83a1bdf0   \n",
       "1  7d187603-7961-4fce-9827-9698e2b6a201  4d158416-caae-4b09-bd5b-15235deb9129   \n",
       "2  f2c14f9d-92df-4aaf-8931-ceaf4e63ed72  ccae47b8-75c7-4f5a-aa9e-957deced2137   \n",
       "3  e9949bfa-194d-486b-84da-9565fca9e5ce  b04960c0-aeee-4907-b1cd-4819016adcef   \n",
       "4  7362837c-7538-434e-8731-0df713f5f26d  de9d6351-b3a7-4bc7-9a55-8f013eb66928   \n",
       "5  5da506fe-d4df-474a-b773-146333f06cfe  03033baf-2bcc-4608-b5b8-9c86976f4948   \n",
       "6  47b35c5d-d4c9-4a7d-a354-cd41596abf67  6a5305a3-b47c-4bdb-91d7-3bf126530e01   \n",
       "7  bf3db41c-25a9-4e6d-b87f-13e5fabe35dd  7300dcf3-df6f-439f-ba13-a98f18b972f3   \n",
       "8  8ec806af-c367-4dd0-8218-25d3c8c7a346  25c48d47-879f-49b3-b0cc-a7393c28f8af   \n",
       "9  3b51c8cd-e0d7-48ba-894f-8f77b2cf2f43  41803857-0031-499c-bcaf-bca4e4ef4620   \n",
       "\n",
       "   Transaction Amount  Transaction Date Payment Method Product Category  \\\n",
       "0               42.32  24-03-2024 23:42         PayPal      electronics   \n",
       "1              301.34  22-01-2024 00:53    credit card      electronics   \n",
       "2              340.32  22-01-2024 08:06     debit card     toys & games   \n",
       "3               95.77  16-01-2024 20:34    credit card      electronics   \n",
       "4               77.45  16-01-2024 15:47    credit card         clothing   \n",
       "5              345.27  22-02-2024 13:49         PayPal     toys & games   \n",
       "6               53.69  21-03-2024 13:42     debit card     toys & games   \n",
       "7              680.17  18-01-2024 23:25     debit card      electronics   \n",
       "8              126.50  12-02-2024 04:01     debit card    home & garden   \n",
       "9               47.18  06-04-2024 22:52  bank transfer     toys & games   \n",
       "\n",
       "   Quantity  Customer Age    Customer Location Device Used       IP Address  \\\n",
       "0         1            40      East Jameshaven     desktop    110.87.246.85   \n",
       "1         3            35             Kingstad      tablet    14.73.104.153   \n",
       "2         5            29           North Ryan     desktop      67.58.94.93   \n",
       "3         5            45           Kaylaville      mobile  202.122.126.216   \n",
       "4         5            42  North Edwardborough     desktop     96.77.232.76   \n",
       "5         1             9         Johnsonmouth     desktop   158.48.161.135   \n",
       "6         3            41      New Brendamouth      mobile    93.54.173.138   \n",
       "7         5            39          South Tracy      tablet     61.52.160.51   \n",
       "8         4            35           West Henry      mobile     6.59.118.143   \n",
       "9         4            19           Taylorside      mobile     17.185.69.10   \n",
       "\n",
       "                                    Shipping Address  \\\n",
       "0  5399 Rachel Stravenue Suite 718\\nNorth Blakebu...   \n",
       "1        5230 Stephanie Forge\\nCollinsbury, PR 81853   \n",
       "2                195 Cole Oval\\nPort Larry, IA 58422   \n",
       "3         7609 Cynthia Square\\nWest Brenda, NV 23016   \n",
       "4  2494 Robert Ramp Suite 313\\nRobinsonport, AS 5...   \n",
       "5                   PSC 3832, Box 5265\\nAPO AE 85694   \n",
       "6  272 Tammy Isle Apt. 969\\nNorth Michaelmouth, M...   \n",
       "7  30470 Amanda Causeway Suite 446\\nLake Ashleyla...   \n",
       "8                  179 Amy Roads\\nRyanland, OH 38054   \n",
       "9  34828 Ronald Oval Suite 620\\nNew Samuelmouth, ...   \n",
       "\n",
       "                                     Billing Address  Is Fraudulent  \\\n",
       "0  5399 Rachel Stravenue Suite 718\\nNorth Blakebu...              0   \n",
       "1        5230 Stephanie Forge\\nCollinsbury, PR 81853              0   \n",
       "2  4772 David Stravenue Apt. 447\\nVelasquezside, ...              0   \n",
       "3         7609 Cynthia Square\\nWest Brenda, NV 23016              0   \n",
       "4  2494 Robert Ramp Suite 313\\nRobinsonport, AS 5...              0   \n",
       "5                   PSC 3832, Box 5265\\nAPO AE 85694              0   \n",
       "6  272 Tammy Isle Apt. 969\\nNorth Michaelmouth, M...              0   \n",
       "7  30470 Amanda Causeway Suite 446\\nLake Ashleyla...              0   \n",
       "8                  179 Amy Roads\\nRyanland, OH 38054              0   \n",
       "9  34828 Ronald Oval Suite 620\\nNew Samuelmouth, ...              0   \n",
       "\n",
       "   Account Age Days  Transaction Hour  \n",
       "0               282                23  \n",
       "1               223                 0  \n",
       "2               360                 8  \n",
       "3               325                20  \n",
       "4               116                15  \n",
       "5               251                13  \n",
       "6               138                13  \n",
       "7                36                23  \n",
       "8               188                 4  \n",
       "9               245                22  "
      ]
     },
     "execution_count": 1,
     "metadata": {},
     "output_type": "execute_result"
    }
   ],
   "source": [
    "\n",
    "import pandas as pd\n",
    "import seaborn as sns\n",
    "import matplotlib.pyplot as plt\n",
    "data=pd.read_csv(r\"D:\\data_analytics\\project\\EDA_project_fraudulent_ecommerce_transaction.csv\")\n",
    "data.head(10)\n"
   ]
  },
  {
   "cell_type": "code",
   "execution_count": 2,
   "metadata": {},
   "outputs": [
    {
     "data": {
      "text/html": [
       "<div>\n",
       "<style scoped>\n",
       "    .dataframe tbody tr th:only-of-type {\n",
       "        vertical-align: middle;\n",
       "    }\n",
       "\n",
       "    .dataframe tbody tr th {\n",
       "        vertical-align: top;\n",
       "    }\n",
       "\n",
       "    .dataframe thead th {\n",
       "        text-align: right;\n",
       "    }\n",
       "</style>\n",
       "<table border=\"1\" class=\"dataframe\">\n",
       "  <thead>\n",
       "    <tr style=\"text-align: right;\">\n",
       "      <th></th>\n",
       "      <th>Transaction ID</th>\n",
       "      <th>Customer ID</th>\n",
       "      <th>Transaction Amount</th>\n",
       "      <th>Transaction Date</th>\n",
       "      <th>Payment Method</th>\n",
       "      <th>Product Category</th>\n",
       "      <th>Quantity</th>\n",
       "      <th>Customer Age</th>\n",
       "      <th>Customer Location</th>\n",
       "      <th>Device Used</th>\n",
       "      <th>IP Address</th>\n",
       "      <th>Shipping Address</th>\n",
       "      <th>Billing Address</th>\n",
       "      <th>Is Fraudulent</th>\n",
       "      <th>Account Age Days</th>\n",
       "      <th>Transaction Hour</th>\n",
       "    </tr>\n",
       "  </thead>\n",
       "  <tbody>\n",
       "    <tr>\n",
       "      <th>23624</th>\n",
       "      <td>e38659f8-37d5-415d-bbfb-443b715ca9f1</td>\n",
       "      <td>286669b8-d86e-48b1-ab2c-277cd6d953bc</td>\n",
       "      <td>146.67</td>\n",
       "      <td>11-03-2024 19:02</td>\n",
       "      <td>credit card</td>\n",
       "      <td>electronics</td>\n",
       "      <td>5</td>\n",
       "      <td>42</td>\n",
       "      <td>Aaronfurt</td>\n",
       "      <td>mobile</td>\n",
       "      <td>110.4.144.51</td>\n",
       "      <td>478 James Falls Suite 662\\nLake Mark, ME 95615</td>\n",
       "      <td>478 James Falls Suite 662\\nLake Mark, ME 95615</td>\n",
       "      <td>0</td>\n",
       "      <td>121</td>\n",
       "      <td>19</td>\n",
       "    </tr>\n",
       "    <tr>\n",
       "      <th>23625</th>\n",
       "      <td>5e195aab-b17f-423a-ad7a-95f1a279603a</td>\n",
       "      <td>90d18669-1500-4df5-a79d-b501393943cc</td>\n",
       "      <td>215.02</td>\n",
       "      <td>10-01-2024 09:37</td>\n",
       "      <td>credit card</td>\n",
       "      <td>home &amp; garden</td>\n",
       "      <td>1</td>\n",
       "      <td>20</td>\n",
       "      <td>East Jameschester</td>\n",
       "      <td>desktop</td>\n",
       "      <td>54.29.161.167</td>\n",
       "      <td>6289 Derek Burg Suite 204\\nMillerland, ME 14836</td>\n",
       "      <td>6289 Derek Burg Suite 204\\nMillerland, ME 14836</td>\n",
       "      <td>0</td>\n",
       "      <td>271</td>\n",
       "      <td>9</td>\n",
       "    </tr>\n",
       "    <tr>\n",
       "      <th>23626</th>\n",
       "      <td>bddffc14-79b8-4433-945d-cc7aa14d5296</td>\n",
       "      <td>d1fffbca-a84f-4d88-839f-9f7a50b67a7a</td>\n",
       "      <td>65.87</td>\n",
       "      <td>25-03-2024 10:47</td>\n",
       "      <td>PayPal</td>\n",
       "      <td>health &amp; beauty</td>\n",
       "      <td>2</td>\n",
       "      <td>27</td>\n",
       "      <td>South Deborah</td>\n",
       "      <td>mobile</td>\n",
       "      <td>47.87.10.169</td>\n",
       "      <td>791 Johnson Burg\\nNew Richardfort, TX 28157</td>\n",
       "      <td>757 Destiny Dam\\nLake Brian, OR 64783</td>\n",
       "      <td>0</td>\n",
       "      <td>154</td>\n",
       "      <td>10</td>\n",
       "    </tr>\n",
       "    <tr>\n",
       "      <th>23627</th>\n",
       "      <td>1449c5cf-fd30-47b3-bc42-55a26784bb33</td>\n",
       "      <td>7b024b21-aa09-4e6d-b94f-8c7f704b4be6</td>\n",
       "      <td>75.22</td>\n",
       "      <td>08-03-2024 15:38</td>\n",
       "      <td>PayPal</td>\n",
       "      <td>electronics</td>\n",
       "      <td>4</td>\n",
       "      <td>39</td>\n",
       "      <td>Lake Michaelmouth</td>\n",
       "      <td>desktop</td>\n",
       "      <td>86.249.211.28</td>\n",
       "      <td>630 Alvarez Fork Suite 639\\nLaurentown, VT 15862</td>\n",
       "      <td>630 Alvarez Fork Suite 639\\nLaurentown, VT 15862</td>\n",
       "      <td>0</td>\n",
       "      <td>280</td>\n",
       "      <td>15</td>\n",
       "    </tr>\n",
       "    <tr>\n",
       "      <th>23628</th>\n",
       "      <td>1bbd6772-57b0-4fa2-81f2-e1c7096eecc1</td>\n",
       "      <td>04f68fcd-4642-4ef0-9549-e31505226550</td>\n",
       "      <td>24.74</td>\n",
       "      <td>08-02-2024 00:55</td>\n",
       "      <td>credit card</td>\n",
       "      <td>health &amp; beauty</td>\n",
       "      <td>3</td>\n",
       "      <td>25</td>\n",
       "      <td>Blackburnview</td>\n",
       "      <td>desktop</td>\n",
       "      <td>161.23.44.204</td>\n",
       "      <td>547 Lisa Wells\\nEast Victoriafurt, MP 49935</td>\n",
       "      <td>22844 Gordon Burgs Suite 875\\nZacharyland, NE ...</td>\n",
       "      <td>0</td>\n",
       "      <td>116</td>\n",
       "      <td>0</td>\n",
       "    </tr>\n",
       "    <tr>\n",
       "      <th>23629</th>\n",
       "      <td>d8b7171f-bdd9-479c-b98b-396c621aebfe</td>\n",
       "      <td>98a3d94c-dc9a-4525-b273-e6ffe54cc5a4</td>\n",
       "      <td>53.73</td>\n",
       "      <td>26-01-2024 16:25</td>\n",
       "      <td>PayPal</td>\n",
       "      <td>toys &amp; games</td>\n",
       "      <td>5</td>\n",
       "      <td>32</td>\n",
       "      <td>Rebeccafurt</td>\n",
       "      <td>tablet</td>\n",
       "      <td>173.97.197.128</td>\n",
       "      <td>USNV Clayton\\nFPO AE 82639</td>\n",
       "      <td>USNV Clayton\\nFPO AE 82639</td>\n",
       "      <td>0</td>\n",
       "      <td>363</td>\n",
       "      <td>16</td>\n",
       "    </tr>\n",
       "    <tr>\n",
       "      <th>23630</th>\n",
       "      <td>0fd12cf3-c641-4499-8de1-15dc4555cb0c</td>\n",
       "      <td>b3429f52-8b27-46b5-914c-4accd989edb4</td>\n",
       "      <td>47.42</td>\n",
       "      <td>25-02-2024 17:03</td>\n",
       "      <td>credit card</td>\n",
       "      <td>clothing</td>\n",
       "      <td>4</td>\n",
       "      <td>41</td>\n",
       "      <td>Nataliefort</td>\n",
       "      <td>desktop</td>\n",
       "      <td>133.222.22.48</td>\n",
       "      <td>9288 Patricia Cape Apt. 527\\nMelissaton, IL 38543</td>\n",
       "      <td>9288 Patricia Cape Apt. 527\\nMelissaton, IL 38543</td>\n",
       "      <td>0</td>\n",
       "      <td>296</td>\n",
       "      <td>17</td>\n",
       "    </tr>\n",
       "    <tr>\n",
       "      <th>23631</th>\n",
       "      <td>649680d3-a684-44cb-95bf-9b454c3aa86d</td>\n",
       "      <td>066e25c9-4420-4224-bc3f-1a462708090e</td>\n",
       "      <td>1045.23</td>\n",
       "      <td>28-03-2024 23:46</td>\n",
       "      <td>bank transfer</td>\n",
       "      <td>health &amp; beauty</td>\n",
       "      <td>1</td>\n",
       "      <td>9</td>\n",
       "      <td>East Shannonville</td>\n",
       "      <td>tablet</td>\n",
       "      <td>206.133.237.168</td>\n",
       "      <td>3015 Elizabeth Summit Suite 819\\nEast Joelfort...</td>\n",
       "      <td>3015 Elizabeth Summit Suite 819\\nEast Joelfort...</td>\n",
       "      <td>0</td>\n",
       "      <td>329</td>\n",
       "      <td>23</td>\n",
       "    </tr>\n",
       "    <tr>\n",
       "      <th>23632</th>\n",
       "      <td>c10dbb08-28fc-4ec1-9850-d4e98d2b9640</td>\n",
       "      <td>cde96e9c-f562-4b8c-8fa8-f356f474232b</td>\n",
       "      <td>34.25</td>\n",
       "      <td>09-02-2024 11:29</td>\n",
       "      <td>debit card</td>\n",
       "      <td>home &amp; garden</td>\n",
       "      <td>2</td>\n",
       "      <td>39</td>\n",
       "      <td>Lake Nicole</td>\n",
       "      <td>mobile</td>\n",
       "      <td>16.204.137.130</td>\n",
       "      <td>531 Brittany Pike\\nNew Stacy, OR 87952</td>\n",
       "      <td>531 Brittany Pike\\nNew Stacy, OR 87952</td>\n",
       "      <td>0</td>\n",
       "      <td>347</td>\n",
       "      <td>11</td>\n",
       "    </tr>\n",
       "    <tr>\n",
       "      <th>23633</th>\n",
       "      <td>23e3c107-f2fc-48c2-abbc-7b809bf6f102</td>\n",
       "      <td>d8d7a64e-8419-4421-910a-a7cf709a900b</td>\n",
       "      <td>85.03</td>\n",
       "      <td>23-01-2024 02:46</td>\n",
       "      <td>credit card</td>\n",
       "      <td>clothing</td>\n",
       "      <td>4</td>\n",
       "      <td>38</td>\n",
       "      <td>Holtport</td>\n",
       "      <td>tablet</td>\n",
       "      <td>116.188.254.162</td>\n",
       "      <td>289 Adams Wells\\nWest Joeltown, LA 69190</td>\n",
       "      <td>289 Adams Wells\\nWest Joeltown, LA 69190</td>\n",
       "      <td>0</td>\n",
       "      <td>203</td>\n",
       "      <td>2</td>\n",
       "    </tr>\n",
       "  </tbody>\n",
       "</table>\n",
       "</div>"
      ],
      "text/plain": [
       "                             Transaction ID  \\\n",
       "23624  e38659f8-37d5-415d-bbfb-443b715ca9f1   \n",
       "23625  5e195aab-b17f-423a-ad7a-95f1a279603a   \n",
       "23626  bddffc14-79b8-4433-945d-cc7aa14d5296   \n",
       "23627  1449c5cf-fd30-47b3-bc42-55a26784bb33   \n",
       "23628  1bbd6772-57b0-4fa2-81f2-e1c7096eecc1   \n",
       "23629  d8b7171f-bdd9-479c-b98b-396c621aebfe   \n",
       "23630  0fd12cf3-c641-4499-8de1-15dc4555cb0c   \n",
       "23631  649680d3-a684-44cb-95bf-9b454c3aa86d   \n",
       "23632  c10dbb08-28fc-4ec1-9850-d4e98d2b9640   \n",
       "23633  23e3c107-f2fc-48c2-abbc-7b809bf6f102   \n",
       "\n",
       "                                Customer ID  Transaction Amount  \\\n",
       "23624  286669b8-d86e-48b1-ab2c-277cd6d953bc              146.67   \n",
       "23625  90d18669-1500-4df5-a79d-b501393943cc              215.02   \n",
       "23626  d1fffbca-a84f-4d88-839f-9f7a50b67a7a               65.87   \n",
       "23627  7b024b21-aa09-4e6d-b94f-8c7f704b4be6               75.22   \n",
       "23628  04f68fcd-4642-4ef0-9549-e31505226550               24.74   \n",
       "23629  98a3d94c-dc9a-4525-b273-e6ffe54cc5a4               53.73   \n",
       "23630  b3429f52-8b27-46b5-914c-4accd989edb4               47.42   \n",
       "23631  066e25c9-4420-4224-bc3f-1a462708090e             1045.23   \n",
       "23632  cde96e9c-f562-4b8c-8fa8-f356f474232b               34.25   \n",
       "23633  d8d7a64e-8419-4421-910a-a7cf709a900b               85.03   \n",
       "\n",
       "       Transaction Date Payment Method Product Category  Quantity  \\\n",
       "23624  11-03-2024 19:02    credit card      electronics         5   \n",
       "23625  10-01-2024 09:37    credit card    home & garden         1   \n",
       "23626  25-03-2024 10:47         PayPal  health & beauty         2   \n",
       "23627  08-03-2024 15:38         PayPal      electronics         4   \n",
       "23628  08-02-2024 00:55    credit card  health & beauty         3   \n",
       "23629  26-01-2024 16:25         PayPal     toys & games         5   \n",
       "23630  25-02-2024 17:03    credit card         clothing         4   \n",
       "23631  28-03-2024 23:46  bank transfer  health & beauty         1   \n",
       "23632  09-02-2024 11:29     debit card    home & garden         2   \n",
       "23633  23-01-2024 02:46    credit card         clothing         4   \n",
       "\n",
       "       Customer Age  Customer Location Device Used       IP Address  \\\n",
       "23624            42          Aaronfurt      mobile     110.4.144.51   \n",
       "23625            20  East Jameschester     desktop    54.29.161.167   \n",
       "23626            27      South Deborah      mobile     47.87.10.169   \n",
       "23627            39  Lake Michaelmouth     desktop    86.249.211.28   \n",
       "23628            25      Blackburnview     desktop    161.23.44.204   \n",
       "23629            32        Rebeccafurt      tablet   173.97.197.128   \n",
       "23630            41        Nataliefort     desktop    133.222.22.48   \n",
       "23631             9  East Shannonville      tablet  206.133.237.168   \n",
       "23632            39        Lake Nicole      mobile   16.204.137.130   \n",
       "23633            38           Holtport      tablet  116.188.254.162   \n",
       "\n",
       "                                        Shipping Address  \\\n",
       "23624     478 James Falls Suite 662\\nLake Mark, ME 95615   \n",
       "23625    6289 Derek Burg Suite 204\\nMillerland, ME 14836   \n",
       "23626        791 Johnson Burg\\nNew Richardfort, TX 28157   \n",
       "23627   630 Alvarez Fork Suite 639\\nLaurentown, VT 15862   \n",
       "23628        547 Lisa Wells\\nEast Victoriafurt, MP 49935   \n",
       "23629                         USNV Clayton\\nFPO AE 82639   \n",
       "23630  9288 Patricia Cape Apt. 527\\nMelissaton, IL 38543   \n",
       "23631  3015 Elizabeth Summit Suite 819\\nEast Joelfort...   \n",
       "23632             531 Brittany Pike\\nNew Stacy, OR 87952   \n",
       "23633           289 Adams Wells\\nWest Joeltown, LA 69190   \n",
       "\n",
       "                                         Billing Address  Is Fraudulent  \\\n",
       "23624     478 James Falls Suite 662\\nLake Mark, ME 95615              0   \n",
       "23625    6289 Derek Burg Suite 204\\nMillerland, ME 14836              0   \n",
       "23626              757 Destiny Dam\\nLake Brian, OR 64783              0   \n",
       "23627   630 Alvarez Fork Suite 639\\nLaurentown, VT 15862              0   \n",
       "23628  22844 Gordon Burgs Suite 875\\nZacharyland, NE ...              0   \n",
       "23629                         USNV Clayton\\nFPO AE 82639              0   \n",
       "23630  9288 Patricia Cape Apt. 527\\nMelissaton, IL 38543              0   \n",
       "23631  3015 Elizabeth Summit Suite 819\\nEast Joelfort...              0   \n",
       "23632             531 Brittany Pike\\nNew Stacy, OR 87952              0   \n",
       "23633           289 Adams Wells\\nWest Joeltown, LA 69190              0   \n",
       "\n",
       "       Account Age Days  Transaction Hour  \n",
       "23624               121                19  \n",
       "23625               271                 9  \n",
       "23626               154                10  \n",
       "23627               280                15  \n",
       "23628               116                 0  \n",
       "23629               363                16  \n",
       "23630               296                17  \n",
       "23631               329                23  \n",
       "23632               347                11  \n",
       "23633               203                 2  "
      ]
     },
     "execution_count": 2,
     "metadata": {},
     "output_type": "execute_result"
    }
   ],
   "source": [
    "data.tail(10)"
   ]
  },
  {
   "cell_type": "code",
   "execution_count": 3,
   "metadata": {},
   "outputs": [
    {
     "name": "stdout",
     "output_type": "stream",
     "text": [
      "<class 'pandas.core.frame.DataFrame'>\n",
      "RangeIndex: 23634 entries, 0 to 23633\n",
      "Data columns (total 16 columns):\n",
      " #   Column              Non-Null Count  Dtype  \n",
      "---  ------              --------------  -----  \n",
      " 0   Transaction ID      23634 non-null  object \n",
      " 1   Customer ID         23634 non-null  object \n",
      " 2   Transaction Amount  23634 non-null  float64\n",
      " 3   Transaction Date    23634 non-null  object \n",
      " 4   Payment Method      23634 non-null  object \n",
      " 5   Product Category    23634 non-null  object \n",
      " 6   Quantity            23634 non-null  int64  \n",
      " 7   Customer Age        23634 non-null  int64  \n",
      " 8   Customer Location   23634 non-null  object \n",
      " 9   Device Used         23634 non-null  object \n",
      " 10  IP Address          23634 non-null  object \n",
      " 11  Shipping Address    23634 non-null  object \n",
      " 12  Billing Address     23634 non-null  object \n",
      " 13  Is Fraudulent       23634 non-null  int64  \n",
      " 14  Account Age Days    23634 non-null  int64  \n",
      " 15  Transaction Hour    23634 non-null  int64  \n",
      "dtypes: float64(1), int64(5), object(10)\n",
      "memory usage: 2.9+ MB\n"
     ]
    }
   ],
   "source": [
    "#getting info of the data\n",
    "data.info()"
   ]
  },
  {
   "cell_type": "code",
   "execution_count": 4,
   "metadata": {},
   "outputs": [
    {
     "name": "stderr",
     "output_type": "stream",
     "text": [
      "C:\\Users\\IMAGE\\AppData\\Local\\Temp\\ipykernel_9988\\1873771271.py:2: UserWarning: Parsing dates in %d-%m-%Y %H:%M format when dayfirst=False (the default) was specified. Pass `dayfirst=True` or specify a format to silence this warning.\n",
      "  data['Transaction Date']=pd.to_datetime(data['Transaction Date'])\n"
     ]
    },
    {
     "name": "stdout",
     "output_type": "stream",
     "text": [
      "columns after removing white space\n",
      "Index(['Transaction_ID', 'Customer_ID', 'Transaction_Amount',\n",
      "       'Transaction_Date', 'Payment_Method', 'Product_Category', 'Quantity',\n",
      "       'Customer_Age', 'Customer_Location', 'Device_Used', 'IP_Address',\n",
      "       'Shipping_Address', 'Billing_Address', 'Is_Fraudulent',\n",
      "       'Account_Age_Days', 'Transaction_Hour'],\n",
      "      dtype='object')\n"
     ]
    },
    {
     "data": {
      "image/png": "[encoded data removed]",
      "text/plain": [
       "<Figure size 640x480 with 1 Axes>"
      ]
     },
     "metadata": {},
     "output_type": "display_data"
    }
   ],
   "source": [
    "#changing data type and removing white space from columns\n",
    "data['Transaction Date']=pd.to_datetime(data['Transaction Date'])\n",
    "for x in data.columns:\n",
    "    if \" \" in x:\n",
    "        new_col=x.replace(\" \",\"_\")\n",
    "    else:\n",
    "        new_col=x\n",
    "    data=data.rename(columns={x:new_col})\n",
    "print(\"columns after removing white space\")\n",
    "print(data.columns)\n",
    "data.drop_duplicates(inplace=True)\n",
    "sns.boxplot(data=data)\n",
    "plt.show()"
   ]
  },
  {
   "cell_type": "code",
   "execution_count": 5,
   "metadata": {},
   "outputs": [],
   "source": [
    "# for i in data.index:\n",
    "#     if data.loc[i,'Transaction_Amount']>4600:\n",
    "#         data.loc[i,'Transaction_Amount']=4600\n",
    "# print(\"plot after removing outlayer\")\n",
    "# print(data)\n",
    "# sns.boxplot(data=data)\n",
    "# plt.show()\n"
   ]
  },
  {
   "cell_type": "code",
   "execution_count": 6,
   "metadata": {},
   "outputs": [
    {
     "name": "stdout",
     "output_type": "stream",
     "text": [
      "       Transaction_Amount               Transaction_Date      Quantity  \\\n",
      "count        23634.000000                          23634  23634.000000   \n",
      "mean           229.367099  2024-02-18 15:16:49.751205888      3.000550   \n",
      "min             10.000000            2024-01-01 00:01:00      1.000000   \n",
      "25%             69.070000            2024-01-24 21:04:30      2.000000   \n",
      "50%            151.415000            2024-02-18 21:18:30      3.000000   \n",
      "75%            296.127500            2024-03-14 00:01:15      4.000000   \n",
      "max           9716.500000            2024-04-07 08:54:00      5.000000   \n",
      "std            282.046669                            NaN      1.419663   \n",
      "\n",
      "       Customer_Age  Is_Fraudulent  Account_Age_Days  Transaction_Hour  \n",
      "count  23634.000000   23634.000000      23634.000000      23634.000000  \n",
      "mean      34.560210       0.051705        178.660531         11.266015  \n",
      "min       -2.000000       0.000000          1.000000          0.000000  \n",
      "25%       28.000000       0.000000         84.000000          5.000000  \n",
      "50%       35.000000       0.000000        178.000000         11.000000  \n",
      "75%       41.000000       0.000000        272.000000         17.000000  \n",
      "max       73.000000       1.000000        365.000000         23.000000  \n",
      "std       10.009471       0.221436        107.388682          6.980659  \n"
     ]
    }
   ],
   "source": [
    "#getting some statistical functions by using describe function \n",
    "data2=pd.DataFrame(data)\n",
    "print(data2.describe())"
   ]
  },
  {
   "cell_type": "markdown",
   "metadata": {},
   "source": [
    "#TOTAL FRAUDULENT TRANSACTIONS"
   ]
  },
  {
   "cell_type": "code",
   "execution_count": 7,
   "metadata": {},
   "outputs": [
    {
     "name": "stdout",
     "output_type": "stream",
     "text": [
      "total: 1222\n"
     ]
    }
   ],
   "source": [
    "#finding total number of fraudulent transaction (1)\n",
    "total_fraudulent_transaction=len(data[data['Is_Fraudulent']==1])\n",
    "print(\"total:\",total_fraudulent_transaction)"
   ]
  },
  {
   "cell_type": "code",
   "execution_count": 8,
   "metadata": {},
   "outputs": [
    {
     "name": "stdout",
     "output_type": "stream",
     "text": [
      "5.17051705170517\n"
     ]
    }
   ],
   "source": [
    "total_transaction=len(data)\n",
    "fraudulent_transaction=len(data[data['Is_Fraudulent']==1])\n",
    "percentage_of_fraudulent_transaction=(fraudulent_transaction/total_transaction)*100\n",
    "print(percentage_of_fraudulent_transaction)"
   ]
  },
  {
   "cell_type": "markdown",
   "metadata": {},
   "source": [
    "#TOTAL MISMATCHED ADRESSES AND IT'S PERCENTAGE"
   ]
  },
  {
   "cell_type": "code",
   "execution_count": 9,
   "metadata": {},
   "outputs": [
    {
     "name": "stdout",
     "output_type": "stream",
     "text": [
      "2342\n"
     ]
    }
   ],
   "source": [
    "#total number of mismatched shipping address and billing address  (2)\n",
    "mismatched_address=len(data[data['Billing_Address']!=data['Shipping_Address']])\n",
    "print(mismatched_address)"
   ]
  },
  {
   "cell_type": "code",
   "execution_count": 10,
   "metadata": {},
   "outputs": [
    {
     "name": "stdout",
     "output_type": "stream",
     "text": [
      "9.90945248370991\n"
     ]
    }
   ],
   "source": [
    "total_transaction=len(data)\n",
    "mismatched_address=len(data[data['Billing_Address']!=data['Shipping_Address']])\n",
    "percentage_of_mismatched_address=(mismatched_address/total_transaction)*100\n",
    "print(percentage_of_mismatched_address)"
   ]
  },
  {
   "cell_type": "code",
   "execution_count": 11,
   "metadata": {},
   "outputs": [
    {
     "name": "stdout",
     "output_type": "stream",
     "text": [
      "<class 'pandas.core.frame.DataFrame'>\n",
      "RangeIndex: 23634 entries, 0 to 23633\n",
      "Data columns (total 17 columns):\n",
      " #   Column              Non-Null Count  Dtype         \n",
      "---  ------              --------------  -----         \n",
      " 0   Transaction_ID      23634 non-null  object        \n",
      " 1   Customer_ID         23634 non-null  object        \n",
      " 2   Transaction_Amount  23634 non-null  float64       \n",
      " 3   Transaction_Date    23634 non-null  datetime64[ns]\n",
      " 4   Payment_Method      23634 non-null  object        \n",
      " 5   Product_Category    23634 non-null  object        \n",
      " 6   Quantity            23634 non-null  int64         \n",
      " 7   Customer_Age        23634 non-null  int64         \n",
      " 8   Customer_Location   23634 non-null  object        \n",
      " 9   Device_Used         23634 non-null  object        \n",
      " 10  IP_Address          23634 non-null  object        \n",
      " 11  Shipping_Address    23634 non-null  object        \n",
      " 12  Billing_Address     23634 non-null  object        \n",
      " 13  Is_Fraudulent       23634 non-null  int64         \n",
      " 14  Account_Age_Days    23634 non-null  int64         \n",
      " 15  Transaction_Hour    23634 non-null  int64         \n",
      " 16  Address_match       23634 non-null  bool          \n",
      "dtypes: bool(1), datetime64[ns](1), float64(1), int64(5), object(9)\n",
      "memory usage: 2.9+ MB\n",
      "None\n"
     ]
    },
    {
     "data": {
      "text/html": [
       "<div>\n",
       "<style scoped>\n",
       "    .dataframe tbody tr th:only-of-type {\n",
       "        vertical-align: middle;\n",
       "    }\n",
       "\n",
       "    .dataframe tbody tr th {\n",
       "        vertical-align: top;\n",
       "    }\n",
       "\n",
       "    .dataframe thead th {\n",
       "        text-align: right;\n",
       "    }\n",
       "</style>\n",
       "<table border=\"1\" class=\"dataframe\">\n",
       "  <thead>\n",
       "    <tr style=\"text-align: right;\">\n",
       "      <th></th>\n",
       "      <th>Transaction_ID</th>\n",
       "      <th>Customer_ID</th>\n",
       "      <th>Transaction_Amount</th>\n",
       "      <th>Transaction_Date</th>\n",
       "      <th>Payment_Method</th>\n",
       "      <th>Product_Category</th>\n",
       "      <th>Quantity</th>\n",
       "      <th>Customer_Age</th>\n",
       "      <th>Customer_Location</th>\n",
       "      <th>Device_Used</th>\n",
       "      <th>IP_Address</th>\n",
       "      <th>Shipping_Address</th>\n",
       "      <th>Billing_Address</th>\n",
       "      <th>Is_Fraudulent</th>\n",
       "      <th>Account_Age_Days</th>\n",
       "      <th>Transaction_Hour</th>\n",
       "      <th>Address_match</th>\n",
       "    </tr>\n",
       "  </thead>\n",
       "  <tbody>\n",
       "    <tr>\n",
       "      <th>0</th>\n",
       "      <td>c12e07a0-8a06-4c0d-b5cc-04f3af688570</td>\n",
       "      <td>8ca9f102-02a4-4207-ab63-484e83a1bdf0</td>\n",
       "      <td>42.32</td>\n",
       "      <td>2024-03-24 23:42:00</td>\n",
       "      <td>PayPal</td>\n",
       "      <td>electronics</td>\n",
       "      <td>1</td>\n",
       "      <td>40</td>\n",
       "      <td>East Jameshaven</td>\n",
       "      <td>desktop</td>\n",
       "      <td>110.87.246.85</td>\n",
       "      <td>5399 Rachel Stravenue Suite 718\\nNorth Blakebu...</td>\n",
       "      <td>5399 Rachel Stravenue Suite 718\\nNorth Blakebu...</td>\n",
       "      <td>0</td>\n",
       "      <td>282</td>\n",
       "      <td>23</td>\n",
       "      <td>True</td>\n",
       "    </tr>\n",
       "    <tr>\n",
       "      <th>1</th>\n",
       "      <td>7d187603-7961-4fce-9827-9698e2b6a201</td>\n",
       "      <td>4d158416-caae-4b09-bd5b-15235deb9129</td>\n",
       "      <td>301.34</td>\n",
       "      <td>2024-01-22 00:53:00</td>\n",
       "      <td>credit card</td>\n",
       "      <td>electronics</td>\n",
       "      <td>3</td>\n",
       "      <td>35</td>\n",
       "      <td>Kingstad</td>\n",
       "      <td>tablet</td>\n",
       "      <td>14.73.104.153</td>\n",
       "      <td>5230 Stephanie Forge\\nCollinsbury, PR 81853</td>\n",
       "      <td>5230 Stephanie Forge\\nCollinsbury, PR 81853</td>\n",
       "      <td>0</td>\n",
       "      <td>223</td>\n",
       "      <td>0</td>\n",
       "      <td>True</td>\n",
       "    </tr>\n",
       "    <tr>\n",
       "      <th>2</th>\n",
       "      <td>f2c14f9d-92df-4aaf-8931-ceaf4e63ed72</td>\n",
       "      <td>ccae47b8-75c7-4f5a-aa9e-957deced2137</td>\n",
       "      <td>340.32</td>\n",
       "      <td>2024-01-22 08:06:00</td>\n",
       "      <td>debit card</td>\n",
       "      <td>toys &amp; games</td>\n",
       "      <td>5</td>\n",
       "      <td>29</td>\n",
       "      <td>North Ryan</td>\n",
       "      <td>desktop</td>\n",
       "      <td>67.58.94.93</td>\n",
       "      <td>195 Cole Oval\\nPort Larry, IA 58422</td>\n",
       "      <td>4772 David Stravenue Apt. 447\\nVelasquezside, ...</td>\n",
       "      <td>0</td>\n",
       "      <td>360</td>\n",
       "      <td>8</td>\n",
       "      <td>False</td>\n",
       "    </tr>\n",
       "    <tr>\n",
       "      <th>3</th>\n",
       "      <td>e9949bfa-194d-486b-84da-9565fca9e5ce</td>\n",
       "      <td>b04960c0-aeee-4907-b1cd-4819016adcef</td>\n",
       "      <td>95.77</td>\n",
       "      <td>2024-01-16 20:34:00</td>\n",
       "      <td>credit card</td>\n",
       "      <td>electronics</td>\n",
       "      <td>5</td>\n",
       "      <td>45</td>\n",
       "      <td>Kaylaville</td>\n",
       "      <td>mobile</td>\n",
       "      <td>202.122.126.216</td>\n",
       "      <td>7609 Cynthia Square\\nWest Brenda, NV 23016</td>\n",
       "      <td>7609 Cynthia Square\\nWest Brenda, NV 23016</td>\n",
       "      <td>0</td>\n",
       "      <td>325</td>\n",
       "      <td>20</td>\n",
       "      <td>True</td>\n",
       "    </tr>\n",
       "    <tr>\n",
       "      <th>4</th>\n",
       "      <td>7362837c-7538-434e-8731-0df713f5f26d</td>\n",
       "      <td>de9d6351-b3a7-4bc7-9a55-8f013eb66928</td>\n",
       "      <td>77.45</td>\n",
       "      <td>2024-01-16 15:47:00</td>\n",
       "      <td>credit card</td>\n",
       "      <td>clothing</td>\n",
       "      <td>5</td>\n",
       "      <td>42</td>\n",
       "      <td>North Edwardborough</td>\n",
       "      <td>desktop</td>\n",
       "      <td>96.77.232.76</td>\n",
       "      <td>2494 Robert Ramp Suite 313\\nRobinsonport, AS 5...</td>\n",
       "      <td>2494 Robert Ramp Suite 313\\nRobinsonport, AS 5...</td>\n",
       "      <td>0</td>\n",
       "      <td>116</td>\n",
       "      <td>15</td>\n",
       "      <td>True</td>\n",
       "    </tr>\n",
       "  </tbody>\n",
       "</table>\n",
       "</div>"
      ],
      "text/plain": [
       "                         Transaction_ID                           Customer_ID  \\\n",
       "0  c12e07a0-8a06-4c0d-b5cc-04f3af688570  8ca9f102-02a4-4207-ab63-484e83a1bdf0   \n",
       "1  7d187603-7961-4fce-9827-9698e2b6a201  4d158416-caae-4b09-bd5b-15235deb9129   \n",
       "2  f2c14f9d-92df-4aaf-8931-ceaf4e63ed72  ccae47b8-75c7-4f5a-aa9e-957deced2137   \n",
       "3  e9949bfa-194d-486b-84da-9565fca9e5ce  b04960c0-aeee-4907-b1cd-4819016adcef   \n",
       "4  7362837c-7538-434e-8731-0df713f5f26d  de9d6351-b3a7-4bc7-9a55-8f013eb66928   \n",
       "\n",
       "   Transaction_Amount    Transaction_Date Payment_Method Product_Category  \\\n",
       "0               42.32 2024-03-24 23:42:00         PayPal      electronics   \n",
       "1              301.34 2024-01-22 00:53:00    credit card      electronics   \n",
       "2              340.32 2024-01-22 08:06:00     debit card     toys & games   \n",
       "3               95.77 2024-01-16 20:34:00    credit card      electronics   \n",
       "4               77.45 2024-01-16 15:47:00    credit card         clothing   \n",
       "\n",
       "   Quantity  Customer_Age    Customer_Location Device_Used       IP_Address  \\\n",
       "0         1            40      East Jameshaven     desktop    110.87.246.85   \n",
       "1         3            35             Kingstad      tablet    14.73.104.153   \n",
       "2         5            29           North Ryan     desktop      67.58.94.93   \n",
       "3         5            45           Kaylaville      mobile  202.122.126.216   \n",
       "4         5            42  North Edwardborough     desktop     96.77.232.76   \n",
       "\n",
       "                                    Shipping_Address  \\\n",
       "0  5399 Rachel Stravenue Suite 718\\nNorth Blakebu...   \n",
       "1        5230 Stephanie Forge\\nCollinsbury, PR 81853   \n",
       "2                195 Cole Oval\\nPort Larry, IA 58422   \n",
       "3         7609 Cynthia Square\\nWest Brenda, NV 23016   \n",
       "4  2494 Robert Ramp Suite 313\\nRobinsonport, AS 5...   \n",
       "\n",
       "                                     Billing_Address  Is_Fraudulent  \\\n",
       "0  5399 Rachel Stravenue Suite 718\\nNorth Blakebu...              0   \n",
       "1        5230 Stephanie Forge\\nCollinsbury, PR 81853              0   \n",
       "2  4772 David Stravenue Apt. 447\\nVelasquezside, ...              0   \n",
       "3         7609 Cynthia Square\\nWest Brenda, NV 23016              0   \n",
       "4  2494 Robert Ramp Suite 313\\nRobinsonport, AS 5...              0   \n",
       "\n",
       "   Account_Age_Days  Transaction_Hour  Address_match  \n",
       "0               282                23           True  \n",
       "1               223                 0           True  \n",
       "2               360                 8          False  \n",
       "3               325                20           True  \n",
       "4               116                15           True  "
      ]
     },
     "execution_count": 11,
     "metadata": {},
     "output_type": "execute_result"
    }
   ],
   "source": [
    "data['Address_match']=data.apply(lambda row:row['Billing_Address']==row['Shipping_Address'],axis=1)\n",
    "print(data.info())\n",
    "data.head()"
   ]
  },
  {
   "cell_type": "code",
   "execution_count": 12,
   "metadata": {},
   "outputs": [],
   "source": [
    "# import numpy as np\n",
    "# data['Address_match']=pd.to_numeric(data['Address_match'])\n",
    "# data['Address_match']=np.where(data['Address_match'],1,0)\n",
    "# data.head(10)"
   ]
  },
  {
   "cell_type": "code",
   "execution_count": 13,
   "metadata": {},
   "outputs": [
    {
     "name": "stdout",
     "output_type": "stream",
     "text": [
      "2342\n"
     ]
    }
   ],
   "source": [
    "total_mis_mat=[]\n",
    "for i in data['Address_match']:\n",
    "    if i==0:\n",
    "        total_mis_mat.append(i)\n",
    "print(len(total_mis_mat))\n"
   ]
  },
  {
   "cell_type": "code",
   "execution_count": 14,
   "metadata": {},
   "outputs": [
    {
     "name": "stdout",
     "output_type": "stream",
     "text": [
      "<class 'pandas.core.frame.DataFrame'>\n",
      "RangeIndex: 23634 entries, 0 to 23633\n",
      "Data columns (total 17 columns):\n",
      " #   Column              Non-Null Count  Dtype         \n",
      "---  ------              --------------  -----         \n",
      " 0   Transaction_ID      23634 non-null  object        \n",
      " 1   Customer_ID         23634 non-null  object        \n",
      " 2   Transaction_Amount  23634 non-null  float64       \n",
      " 3   Transaction_Date    23634 non-null  datetime64[ns]\n",
      " 4   Payment_Method      23634 non-null  object        \n",
      " 5   Product_Category    23634 non-null  object        \n",
      " 6   Quantity            23634 non-null  int64         \n",
      " 7   Customer_Age        23634 non-null  int64         \n",
      " 8   Customer_Location   23634 non-null  object        \n",
      " 9   Device_Used         23634 non-null  object        \n",
      " 10  IP_Address          23634 non-null  object        \n",
      " 11  Shipping_Address    23634 non-null  object        \n",
      " 12  Billing_Address     23634 non-null  object        \n",
      " 13  Is_Fraudulent       23634 non-null  int64         \n",
      " 14  Account_Age_Days    23634 non-null  int64         \n",
      " 15  Transaction_Hour    23634 non-null  int64         \n",
      " 16  Is_Suspicious       23634 non-null  bool          \n",
      "dtypes: bool(1), datetime64[ns](1), float64(1), int64(5), object(9)\n",
      "memory usage: 2.9+ MB\n"
     ]
    },
    {
     "data": {
      "text/plain": [
       "Transaction_ID        0\n",
       "Customer_ID           0\n",
       "Transaction_Amount    0\n",
       "Transaction_Date      0\n",
       "Payment_Method        0\n",
       "Product_Category      0\n",
       "Quantity              0\n",
       "Customer_Age          0\n",
       "Customer_Location     0\n",
       "Device_Used           0\n",
       "IP_Address            0\n",
       "Shipping_Address      0\n",
       "Billing_Address       0\n",
       "Is_Fraudulent         0\n",
       "Account_Age_Days      0\n",
       "Transaction_Hour      0\n",
       "Is_Suspicious         0\n",
       "dtype: int64"
      ]
     },
     "execution_count": 14,
     "metadata": {},
     "output_type": "execute_result"
    }
   ],
   "source": [
    "data=data.rename(columns={'Address_match':'Is_Suspicious'})\n",
    "data.info()\n",
    "data.isna().sum()\n"
   ]
  },
  {
   "cell_type": "markdown",
   "metadata": {},
   "source": [
    "#GROUPING CUSTOMERS WITH THEIR AGE"
   ]
  },
  {
   "cell_type": "code",
   "execution_count": 15,
   "metadata": {},
   "outputs": [
    {
     "name": "stdout",
     "output_type": "stream",
     "text": [
      "  Age_group  fraudulent_transaction\n",
      "2     31-40                     447\n",
      "1     21-30                     331\n",
      "3     41-50                     287\n",
      "0     10-20                      81\n",
      "4     51-60                      62\n",
      "5     61-70                       5\n",
      "6     71-80                       1\n"
     ]
    },
    {
     "name": "stderr",
     "output_type": "stream",
     "text": [
      "C:\\Users\\IMAGE\\AppData\\Local\\Temp\\ipykernel_9988\\1289488724.py:3: FutureWarning: The default of observed=False is deprecated and will be changed to True in a future version of pandas. Pass observed=False to retain current behavior or observed=True to adopt the future default and silence this warning.\n",
      "  fraud_transaction_by_age_group=data[data['Is_Fraudulent']==1].groupby('Age_group').size().reset_index(name='fraudulent_transaction')\n",
      "C:\\Users\\IMAGE\\AppData\\Local\\Temp\\ipykernel_9988\\1289488724.py:7: FutureWarning: \n",
      "\n",
      "Passing `palette` without assigning `hue` is deprecated and will be removed in v0.14.0. Assign the `x` variable to `hue` and set `legend=False` for the same effect.\n",
      "\n",
      "  sns.barplot(x='Age_group',y='fraudulent_transaction',data=age_group_with_fraud_trans,palette='viridis')\n"
     ]
    },
    {
     "data": {
      "image/png": "[encoded data removed]",
      "text/plain": [
       "<Figure size 600x400 with 1 Axes>"
      ]
     },
     "metadata": {},
     "output_type": "display_data"
    }
   ],
   "source": [
    "#categorising age of customers with range related to fraudulent transaction  (3)\n",
    "data['Age_group']=pd.cut(data['Customer_Age'],bins=[10,20,30,40,50,60,70,80],labels=['10-20','21-30','31-40','41-50','51-60','61-70','71-80'],include_lowest=True)\n",
    "fraud_transaction_by_age_group=data[data['Is_Fraudulent']==1].groupby('Age_group').size().reset_index(name='fraudulent_transaction')\n",
    "age_group_with_fraud_trans=fraud_transaction_by_age_group.sort_values(by='fraudulent_transaction',ascending=False)\n",
    "print(age_group_with_fraud_trans)\n",
    "plt.figure(figsize=(6,4))\n",
    "sns.barplot(x='Age_group',y='fraudulent_transaction',data=age_group_with_fraud_trans,palette='viridis')\n",
    "plt.title('fradulent transaction by age group',fontsize=16)\n",
    "plt.show()"
   ]
  },
  {
   "cell_type": "markdown",
   "metadata": {},
   "source": [
    "#AVERAGE AGE OF CUSTOMERS WHO MAKES FRAUDULENT TRANSACTION "
   ]
  },
  {
   "cell_type": "code",
   "execution_count": 16,
   "metadata": {},
   "outputs": [
    {
     "name": "stdout",
     "output_type": "stream",
     "text": [
      "34.766775777414075\n"
     ]
    }
   ],
   "source": [
    "#average age of customers who makes fraudulent transactiond (4)\n",
    "average_age=data[data['Is_Fraudulent']==1]['Customer_Age'].mean()\n",
    "print(average_age)"
   ]
  },
  {
   "cell_type": "markdown",
   "metadata": {},
   "source": [
    "#PAYMENT METHOD THAT MOSTLY USED FOR FRAUDULENT TRANSACTION "
   ]
  },
  {
   "cell_type": "code",
   "execution_count": 17,
   "metadata": {},
   "outputs": [
    {
     "name": "stdout",
     "output_type": "stream",
     "text": [
      "Payment_Method\n",
      "bank transfer    326\n",
      "PayPal           310\n",
      "credit card      301\n",
      "debit card       285\n",
      "dtype: int64\n"
     ]
    },
    {
     "data": {
      "image/png": "[encoded data removed]",
      "text/plain": [
       "<Figure size 640x480 with 1 Axes>"
      ]
     },
     "metadata": {},
     "output_type": "display_data"
    }
   ],
   "source": [
    "#most frequent payment method that used by customers for fraudulent transaction  (5)\n",
    "fraudulent_transaction=data[data['Is_Fraudulent']==1]\n",
    "payment_method=fraudulent_transaction.groupby('Payment_Method').size().sort_values(ascending=False)\n",
    "print(payment_method)\n",
    "labels=['bank_transfer','paypal','credit_card','debit card']\n",
    "plt.pie(payment_method,labels=labels,autopct='%1.1f%%',colors=['yellow','pink','violet','gray'])\n",
    "plt.xlabel='Payment_Method'\n",
    "plt.ylabel='Count'\n",
    "plt.show()"
   ]
  },
  {
   "cell_type": "markdown",
   "metadata": {},
   "source": [
    "#THE PRODUCT THAT MOSTLY INVOLVED IN FRAUDULENT TRANSACTION "
   ]
  },
  {
   "cell_type": "code",
   "execution_count": 18,
   "metadata": {},
   "outputs": [
    {
     "name": "stdout",
     "output_type": "stream",
     "text": [
      "Product_Category\n",
      "clothing           260\n",
      "electronics        229\n",
      "health & beauty    244\n",
      "home & garden      258\n",
      "toys & games       231\n",
      "dtype: int64\n"
     ]
    },
    {
     "data": {
      "image/png": "[encoded data removed]",
      "text/plain": [
       "<Figure size 640x480 with 1 Axes>"
      ]
     },
     "metadata": {},
     "output_type": "display_data"
    }
   ],
   "source": [
    "#the product that mostly invoved in suspiciouse transaction  (6)\n",
    "fraudulent_transaction=data[data['Is_Fraudulent']==1]\n",
    "product_type=pd.pivot_table(fraudulent_transaction,index='Product_Category',aggfunc='size')\n",
    "print(product_type)\n",
    "labels=['cloths','electronics','H & B','home & garden','toys & games']\n",
    "plt.pie(product_type,labels=labels,autopct='%1.1f%%',colors=['cyan','yellow','pink','violet','magenta'])\n",
    "plt.title('fradulent_transaction')\n",
    "plt.show()"
   ]
  },
  {
   "cell_type": "markdown",
   "metadata": {},
   "source": [
    "RELATION BETWEEN FRAUDULENT TRANSACTION AND LOCATION OF CUSTOMERS"
   ]
  },
  {
   "cell_type": "code",
   "execution_count": 36,
   "metadata": {},
   "outputs": [
    {
     "name": "stdout",
     "output_type": "stream",
     "text": [
      "     Customer_Location  count\n",
      "204          East John      3\n",
      "534        Matthewbury      3\n",
      "671        North Brian      3\n",
      "787   Port Christopher      3\n",
      "1132      West Stephen      3\n",
      "862         Reyesmouth      3\n",
      "931        South Brian      3\n",
      "517       Margarettown      2\n",
      "366        Johnsonview      2\n",
      "570          Mooretown      2\n",
      "317      Hernandezfurt      2\n",
      "560        Millerhaven      2\n",
      "32          Ashleyfort      2\n",
      "71          Brownburgh      2\n",
      "174        East Ashley      2\n",
      "14        Andersenfort      2\n",
      "582         Nelsonside      2\n",
      "74           Browntown      2\n",
      "492        Laurenburgh      2\n",
      "248       East William      2\n"
     ]
    }
   ],
   "source": [
    "#there is any correlation between fraudulent transaction and location of the custemers  (7)\n",
    "fraudulent_transaction=data[data['Is_Fraudulent']==1]\n",
    "Location=fraudulent_transaction.groupby('Customer_Location').size().reset_index(name='count')\n",
    "location1=Location.sort_values(by='count',ascending=False)\n",
    "print(location1.head(20))\n",
    "\n",
    "\n",
    "\n"
   ]
  },
  {
   "cell_type": "markdown",
   "metadata": {},
   "source": [
    "#relation between fraudulent transaction and transaction hour"
   ]
  },
  {
   "cell_type": "code",
   "execution_count": 20,
   "metadata": {},
   "outputs": [
    {
     "name": "stdout",
     "output_type": "stream",
     "text": [
      "Transaction_Hour\n",
      "0     137\n",
      "5     130\n",
      "1     118\n",
      "4     111\n",
      "3     104\n",
      "2     100\n",
      "19     35\n",
      "13     35\n",
      "21     35\n",
      "9      33\n",
      "11     31\n",
      "16     31\n",
      "14     30\n",
      "6      29\n",
      "8      28\n",
      "10     28\n",
      "22     28\n",
      "15     28\n",
      "18     27\n",
      "7      26\n",
      "23     26\n",
      "17     25\n",
      "20     25\n",
      "12     22\n",
      "dtype: int64\n"
     ]
    },
    {
     "name": "stderr",
     "output_type": "stream",
     "text": [
      "C:\\Users\\IMAGE\\AppData\\Local\\Temp\\ipykernel_9988\\2917718068.py:6: FutureWarning: \n",
      "\n",
      "Passing `palette` without assigning `hue` is deprecated and will be removed in v0.14.0. Assign the `x` variable to `hue` and set `legend=False` for the same effect.\n",
      "\n",
      "  sns.barplot(x=transaction_hour.index,y=transaction_hour.values,palette='viridis')\n"
     ]
    },
    {
     "data": {
      "image/png": "[encoded data removed]",
      "text/plain": [
       "<Figure size 600x400 with 1 Axes>"
      ]
     },
     "metadata": {},
     "output_type": "display_data"
    }
   ],
   "source": [
    "#correlation between fraudulent_transaction and transaction hour (8)\n",
    "fraudulent_transaction=data[data['Is_Fraudulent']==1]\n",
    "transaction_hour=fraudulent_transaction.groupby('Transaction_Hour').size().sort_values(ascending=False)\n",
    "print(transaction_hour)\n",
    "plt.figure(figsize=(6,4))\n",
    "sns.barplot(x=transaction_hour.index,y=transaction_hour.values,palette='viridis')\n",
    "plt.title('count of fraudulent transaction by hour',fontsize=14)\n",
    "plt.show()"
   ]
  },
  {
   "cell_type": "markdown",
   "metadata": {},
   "source": [
    "#categorising customers as old and new"
   ]
  },
  {
   "cell_type": "code",
   "execution_count": 21,
   "metadata": {},
   "outputs": [
    {
     "name": "stdout",
     "output_type": "stream",
     "text": [
      "  customer_type  fraudulent_transaction\n",
      "1           Old                     679\n",
      "0           New                     543\n"
     ]
    },
    {
     "data": {
      "image/png": "[encoded data removed]",
      "text/plain": [
       "<Figure size 640x480 with 1 Axes>"
      ]
     },
     "metadata": {},
     "output_type": "display_data"
    }
   ],
   "source": [
    "#categorising old and new customers (9)\n",
    "fraud_transactions=data[data['Is_Fraudulent']==1]\n",
    "data['customer_type']=data['Account_Age_Days'].apply(lambda x: 'Old' if x>=30 else 'New')\n",
    "type_of_customers=data[data['Is_Fraudulent']==1].groupby('customer_type').size().reset_index(name='fraudulent_transaction')\n",
    "grouping_customers=type_of_customers.sort_values(by='fraudulent_transaction',ascending=False).head()\n",
    "print(grouping_customers)\n",
    "labels=['Old','New']\n",
    "plt.pie(grouping_customers['fraudulent_transaction'],labels=grouping_customers['customer_type'],autopct='%1.1f%%',startangle=90,colors=sns.color_palette('viridis'))\n",
    "#plt.pie(grouping_customers,labels=labels,colors=['magenta','gray'])\n",
    "plt.title('fradulent_transaction by customer type')\n",
    "plt.show()\n",
    "\n"
   ]
  },
  {
   "cell_type": "markdown",
   "metadata": {},
   "source": [
    "#filtering customers only with fraudulent transaction"
   ]
  },
  {
   "cell_type": "code",
   "execution_count": 22,
   "metadata": {},
   "outputs": [
    {
     "name": "stdout",
     "output_type": "stream",
     "text": [
      "                    Transaction_Amount  Quantity  Customer_Age  \\\n",
      "Transaction_Amount            1.000000  0.035458     -0.064166   \n",
      "Quantity                      0.035458  1.000000     -0.039959   \n",
      "Customer_Age                 -0.064166 -0.039959      1.000000   \n",
      "Account_Age_Days             -0.019696  0.035227      0.032310   \n",
      "\n",
      "                    Account_Age_Days  \n",
      "Transaction_Amount         -0.019696  \n",
      "Quantity                    0.035227  \n",
      "Customer_Age                0.032310  \n",
      "Account_Age_Days            1.000000  \n"
     ]
    },
    {
     "data": {
      "image/png": "[encoded data removed]",
      "text/plain": [
       "<Figure size 640x480 with 2 Axes>"
      ]
     },
     "metadata": {},
     "output_type": "display_data"
    }
   ],
   "source": [
    "#filtering customers only with fradulent transaction  and checking  there is any relation between the fraudulent transaction of the customers (10)\n",
    "filtered_data=data[data['Customer_ID'].isin(data[data['Is_Fraudulent']==1]['Customer_ID'])]\n",
    "fraudulent_transaction=data[data['Is_Fraudulent']==1]\n",
    "corr_matrix=fraudulent_transaction[['Transaction_Amount','Quantity','Customer_Age','Account_Age_Days']].corr()\n",
    "print(corr_matrix)\n",
    "sns.heatmap(corr_matrix,annot=True)\n",
    "plt.title(\"relation between fraudulent transaction\")\n",
    "plt.show()\n",
    "#print(filtered_data.head(10))"
   ]
  },
  {
   "cell_type": "markdown",
   "metadata": {},
   "source": [
    "#fraud rate for different account age groups"
   ]
  },
  {
   "cell_type": "code",
   "execution_count": 35,
   "metadata": {},
   "outputs": [
    {
     "name": "stderr",
     "output_type": "stream",
     "text": [
      "C:\\Users\\IMAGE\\AppData\\Local\\Temp\\ipykernel_9988\\103564032.py:2: FutureWarning: The default of observed=False is deprecated and will be changed to True in a future version of pandas. Pass observed=False to retain current behavior or observed=True to adopt the future default and silence this warning.\n",
      "  fraud_rate_data=data.groupby('Account_Age_Groups').agg(Total_Transaction=('Is_Fraudulent','size'),fraudulent_transaction=('Is_Fraudulent','sum')).reset_index()\n",
      "C:\\Users\\IMAGE\\AppData\\Local\\Temp\\ipykernel_9988\\103564032.py:6: FutureWarning: \n",
      "\n",
      "Passing `palette` without assigning `hue` is deprecated and will be removed in v0.14.0. Assign the `x` variable to `hue` and set `legend=False` for the same effect.\n",
      "\n",
      "  sns.barplot(x='Account_Age_Groups',y='fraud_rate',data=fraud_rate_data,palette='coolwarm')\n"
     ]
    },
    {
     "name": "stdout",
     "output_type": "stream",
     "text": [
      "  Account_Age_Groups  Total_Transaction  fraudulent_transaction  fraud_rate\n",
      "0          1-39 days               3095                     588   18.998384\n",
      "1         40-79 days               2579                      74    2.869329\n",
      "2        80-119 days               2528                      76    3.006329\n",
      "3       120-159 days               2517                      80    3.178387\n",
      "4       160-199 days               2485                      82    3.299799\n",
      "5       200-239 days               2498                      79    3.162530\n",
      "6       240-279 days               2527                      87    3.442818\n",
      "7       280-319 days               2605                      73    2.802303\n",
      "8       320-365 days               2800                      83    2.964286\n"
     ]
    },
    {
     "data": {
      "image/png": "[encoded data removed]",
      "text/plain": [
       "<Figure size 600x400 with 1 Axes>"
      ]
     },
     "metadata": {},
     "output_type": "display_data"
    }
   ],
   "source": [
    "data['Account_Age_Groups']=pd.cut(data['Account_Age_Days'],bins=[1,40,80,120,160,200,240,280,320,365],labels=['1-39 days','40-79 days','80-119 days','120-159 days','160-199 days','200-239 days','240-279 days','280-319 days','320-365 days'],include_lowest=True)\n",
    "fraud_rate_data=data.groupby('Account_Age_Groups').agg(Total_Transaction=('Is_Fraudulent','size'),fraudulent_transaction=('Is_Fraudulent','sum')).reset_index()\n",
    "fraud_rate_data['fraud_rate']=(fraud_rate_data['fraudulent_transaction']/fraud_rate_data['Total_Transaction'])*100\n",
    "print(fraud_rate_data)\n",
    "plt.figure(figsize=(6,4))\n",
    "sns.barplot(x='Account_Age_Groups',y='fraud_rate',data=fraud_rate_data,palette='coolwarm')\n",
    "plt.title('fraud rate according to account age group')\n",
    "plt.xticks(rotation=90)\n",
    "plt.show()\n",
    "\n"
   ]
  },
  {
   "cell_type": "markdown",
   "metadata": {},
   "source": [
    "#combination of device and payment method are most associated with fradulent transaction"
   ]
  },
  {
   "cell_type": "code",
   "execution_count": null,
   "metadata": {},
   "outputs": [
    {
     "name": "stdout",
     "output_type": "stream",
     "text": [
      "   Device_Used Payment_Method  fraudulent_count\n",
      "1      desktop  bank transfer               117\n",
      "6       mobile    credit card               116\n",
      "4       mobile         PayPal               112\n",
      "9       tablet  bank transfer               105\n",
      "5       mobile  bank transfer               104\n",
      "0      desktop         PayPal               102\n",
      "3      desktop     debit card               101\n",
      "10      tablet    credit card                99\n",
      "7       mobile     debit card                97\n",
      "8       tablet         PayPal                96\n",
      "11      tablet     debit card                87\n",
      "2      desktop    credit card                86\n"
     ]
    },
    {
     "data": {
      "image/png": "[encoded data removed]",
      "text/plain": [
       "<Figure size 600x400 with 1 Axes>"
      ]
     },
     "metadata": {},
     "output_type": "display_data"
    }
   ],
   "source": [
    "fraud_transactions=data[data['Is_Fraudulent']==1]\n",
    "device_payment_fraud=fraud_transactions.groupby(['Device_Used','Payment_Method']).size().reset_index(name='fraudulent_count')\n",
    "device_payment_fraud=device_payment_fraud.sort_values(by='fraudulent_count',ascending=False)\n",
    "print(device_payment_fraud)\n",
    "plt.figure(figsize=(6,4))\n",
    "sns.barplot(x='Device_Used',y='fraudulent_count',hue='Payment_Method', data=device_payment_fraud) \n",
    "    \n",
    "\n",
    "plt.title('Fraudulent Transactions by Device and Payment Method', fontsize=16)\n",
    "plt.show()\n",
    "\n",
    "\n"
   ]
  },
  {
   "cell_type": "code",
   "execution_count": 25,
   "metadata": {},
   "outputs": [
    {
     "name": "stdout",
     "output_type": "stream",
     "text": [
      "                             Transaction_ID  \\\n",
      "13740  6e97ba1f-2013-4c6e-a57c-d868c20ef291   \n",
      "17889  981b50e1-62e3-4823-955a-7f8b8c108bdf   \n",
      "8895   cc928714-de9e-4abb-8409-102c75abb2ed   \n",
      "2200   50d29b1e-7702-45a5-a211-883b08ef3714   \n",
      "14541  03d6ba58-cca5-47d9-85a4-bb3edc2eecc9   \n",
      "\n",
      "                                Customer_ID  Transaction_Amount  \\\n",
      "13740  78066499-aa62-453f-88f9-46896a8ce3e5             9716.50   \n",
      "17889  c69cdc99-09e0-4dc0-b535-62ccd9c85a9c             5725.00   \n",
      "8895   d0cbd989-590b-4605-b3ba-baf375e914e2             5465.95   \n",
      "2200   7066ed18-00a8-46ca-a92b-dace1dfd72d3             5244.05   \n",
      "14541  a174c9c9-3c07-40e1-a281-bc4f6d4d9f3a             5180.30   \n",
      "\n",
      "         Transaction_Date Payment_Method Product_Category  Quantity  \\\n",
      "13740 2024-01-13 08:01:00  bank transfer  health & beauty         5   \n",
      "17889 2024-03-22 16:24:00    credit card         clothing         3   \n",
      "8895  2024-03-09 09:56:00  bank transfer         clothing         2   \n",
      "2200  2024-03-12 22:49:00  bank transfer  health & beauty         4   \n",
      "14541 2024-03-24 01:11:00     debit card     toys & games         5   \n",
      "\n",
      "       Customer_Age Customer_Location Device_Used       IP_Address  \\\n",
      "13740            20    North Debraton      tablet  103.214.156.166   \n",
      "17889            32        Wagnertown      tablet      57.16.39.46   \n",
      "8895             29        West Maria      mobile    12.251.232.91   \n",
      "2200             25       Jonathonton      tablet   91.238.141.129   \n",
      "14541            51        New Nicole      tablet     90.84.104.37   \n",
      "\n",
      "                                    Shipping_Address  \\\n",
      "13740  503 Angela Plain\\nNorth Michaelfort, VA 30009   \n",
      "17889                     USCGC Becker\\nFPO AE 75000   \n",
      "8895        571 Katherine Ford\\nNew Steven, OR 18541   \n",
      "2200                PSC 7449, Box 4406\\nAPO AP 94591   \n",
      "14541         876 Neal Ridge\\nRobinsonstad, MD 93618   \n",
      "\n",
      "                                     Billing_Address  Is_Fraudulent  \\\n",
      "13740  503 Angela Plain\\nNorth Michaelfort, VA 30009              1   \n",
      "17889                     USCGC Becker\\nFPO AE 75000              1   \n",
      "8895        571 Katherine Ford\\nNew Steven, OR 18541              1   \n",
      "2200                PSC 7449, Box 4406\\nAPO AP 94591              1   \n",
      "14541         876 Neal Ridge\\nRobinsonstad, MD 93618              1   \n",
      "\n",
      "       Account_Age_Days  Transaction_Hour  Is_Suspicious Age_group  \\\n",
      "13740                16                 2           True     10-20   \n",
      "17889                 4                 0           True     31-40   \n",
      "8895                 21                 4           True     21-30   \n",
      "2200                119                 4           True     21-30   \n",
      "14541               201                 4           True     51-60   \n",
      "\n",
      "      customer_type Account_Age_Groups  \n",
      "13740           New          1-39 days  \n",
      "17889           New          1-39 days  \n",
      "8895            New          1-39 days  \n",
      "2200            Old        80-119 days  \n",
      "14541           Old       200-239 days  \n"
     ]
    }
   ],
   "source": [
    "\n",
    "fraudulent_transactions = data[data['Is_Fraudulent'] == 1]\n",
    "fraudulent_transactions_sorted = fraudulent_transactions.sort_values(by='Transaction_Amount', ascending=False)\n",
    "print(fraudulent_transactions_sorted.head())\n",
    "\n"
   ]
  },
  {
   "cell_type": "markdown",
   "metadata": {},
   "source": [
    "summary\n",
    "\n",
    "By analysing the Fraudulent Ecommerce Transaction dataset we found that there is total number of fraudulent transaction from the entire data is 1222 which means 5.17% transactions are fraudulent.And 9.9% transactions are included in mismatched address that is the shipping and billing address of the customers are not same.So we can include the customers with mismatched address to suspiciouse transaction list.Fraudulent transactions are mostly made by the customers with  average age 34 and most of them are new customers.Frequently used the payment method for fraudulent transaction is Bank Transfer.\n",
    "\n",
    "Suggestions:\n",
    "1. Implement address verification for all transactions to reduce the number of mismatched shipping and billing addresses.\n",
    "2. Monitor Transactions from High-Risk Age Groups: Closely monitor transactions from customers with age group 31-40, they are more likely to engaged in     fraudulent transactions.\n",
    "3. Enhance Payment Method Security: Enhance the security of [Payment Method] to reduce the number of fraudulent transactions.\n",
    "4. Product Category Monitoring: Closely monitor transactions for products in the category of clothing materials, as they are more likely to be fraudulent.\n",
    "5. Transaction Hour Monitoring: Closely monitor transactions during the hour 12 'O'Clock, as it has the highest number of fraudulent transactions.\n",
    "6. Customer Category Monitoring: Closely monitor transactions from  new customers,because most of the fraudulent transactions are made by the new customers.\n",
    "\n",
    "By implementing these recommendations, we can reduce the number of fraudulent transactions and improve the overall security of our transaction processing system.\n"
   ]
  }
 ],
 "metadata": {
  "kernelspec": {
   "display_name": "Python 3",
   "language": "python",
   "name": "python3"
  },
  "language_info": {
   "codemirror_mode": {
    "name": "ipython",
    "version": 3
   },
   "file_extension": ".py",
   "mimetype": "text/x-python",
   "name": "python",
   "nbconvert_exporter": "python",
   "pygments_lexer": "ipython3",
   "version": "3.13.0"
  }
 },
 "nbformat": 4,
 "nbformat_minor": 2
}
